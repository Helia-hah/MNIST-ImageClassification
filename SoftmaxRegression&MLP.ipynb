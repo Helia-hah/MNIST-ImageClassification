{
  "nbformat": 4,
  "nbformat_minor": 0,
  "metadata": {
    "colab": {
      "provenance": []
    },
    "kernelspec": {
      "name": "python3",
      "display_name": "Python 3"
    },
    "language_info": {
      "name": "python"
    }
  },
  "cells": [
    {
      "cell_type": "markdown",
      "source": [
        "**Upload Data**"
      ],
      "metadata": {
        "id": "UBo8QvbR6rcQ"
      }
    },
    {
      "cell_type": "code",
      "source": [
        "import torch.optim as optim\n",
        "import torch\n",
        "\n",
        "import numpy as np\n",
        "import gzip\n"
      ],
      "metadata": {
        "id": "ndSS8tMs7BUv"
      },
      "execution_count": 26,
      "outputs": []
    },
    {
      "cell_type": "code",
      "source": [
        "torch.manual_seed(42)"
      ],
      "metadata": {
        "colab": {
          "base_uri": "https://localhost:8080/"
        },
        "id": "Gn3GrkYu7I4-",
        "outputId": "4ddee6ff-1528-4346-e4ff-1a772949c839"
      },
      "execution_count": 27,
      "outputs": [
        {
          "output_type": "execute_result",
          "data": {
            "text/plain": [
              "<torch._C.Generator at 0x7f533fed01b0>"
            ]
          },
          "metadata": {},
          "execution_count": 27
        }
      ]
    },
    {
      "cell_type": "code",
      "execution_count": 28,
      "metadata": {
        "id": "60xmnLdw6iaa"
      },
      "outputs": [],
      "source": [
        "def training_images():\n",
        "    with gzip.open('/content/train-images-idx3-ubyte.gz', 'r') as f:\n",
        "        # first 4 bytes is a magic number\n",
        "        magic_number = int.from_bytes(f.read(4), 'big')\n",
        "        # second 4 bytes is the number of images\n",
        "        image_count = int.from_bytes(f.read(4), 'big')\n",
        "        # third 4 bytes is the row count\n",
        "        row_count = int.from_bytes(f.read(4), 'big')\n",
        "        # fourth 4 bytes is the column count\n",
        "        column_count = int.from_bytes(f.read(4), 'big')\n",
        "        # rest is the image pixel data, each pixel is stored as an unsigned byte\n",
        "        # pixel values are 0 to 255\n",
        "        image_data = f.read()\n",
        "        images = np.frombuffer(image_data, dtype=np.uint8)\\\n",
        "            .reshape((image_count, row_count, column_count))\n",
        "        return images\n",
        "\n",
        "\n",
        "def training_labels():\n",
        "    with gzip.open('/content/train-labels-idx1-ubyte.gz', 'r') as f:\n",
        "        # first 4 bytes is a magic number\n",
        "        magic_number = int.from_bytes(f.read(4), 'big')\n",
        "        # second 4 bytes is the number of labels\n",
        "        label_count = int.from_bytes(f.read(4), 'big')\n",
        "        # rest is the label data, each label is stored as unsigned byte\n",
        "        # label values are 0 to 9\n",
        "        label_data = f.read()\n",
        "        labels = np.frombuffer(label_data, dtype=np.uint8)\n",
        "        return labels"
      ]
    },
    {
      "cell_type": "code",
      "source": [
        "x_train = training_images()\n",
        "x_train.shape"
      ],
      "metadata": {
        "colab": {
          "base_uri": "https://localhost:8080/"
        },
        "id": "wcZ2RVCu650l",
        "outputId": "b8d7b2a9-ff99-441f-b315-fcc8b7e15e71"
      },
      "execution_count": 29,
      "outputs": [
        {
          "output_type": "execute_result",
          "data": {
            "text/plain": [
              "(60000, 28, 28)"
            ]
          },
          "metadata": {},
          "execution_count": 29
        }
      ]
    },
    {
      "cell_type": "code",
      "source": [
        "y_train = training_labels()\n",
        "y_train.shape"
      ],
      "metadata": {
        "colab": {
          "base_uri": "https://localhost:8080/"
        },
        "id": "i-L5Bvt-68Z2",
        "outputId": "7781c850-4d51-4357-e018-6f1ccf62da12"
      },
      "execution_count": 30,
      "outputs": [
        {
          "output_type": "execute_result",
          "data": {
            "text/plain": [
              "(60000,)"
            ]
          },
          "metadata": {},
          "execution_count": 30
        }
      ]
    },
    {
      "cell_type": "code",
      "source": [
        "x_s = x_train.reshape(60000,784)\n",
        "x_s.shape"
      ],
      "metadata": {
        "colab": {
          "base_uri": "https://localhost:8080/"
        },
        "id": "TveBEDcb68h2",
        "outputId": "f1e43564-d786-4d2b-e58c-26d9b4fc2128"
      },
      "execution_count": 31,
      "outputs": [
        {
          "output_type": "execute_result",
          "data": {
            "text/plain": [
              "(60000, 784)"
            ]
          },
          "metadata": {},
          "execution_count": 31
        }
      ]
    },
    {
      "cell_type": "markdown",
      "source": [
        "convert to tensor"
      ],
      "metadata": {
        "id": "2QavN-9L7R7_"
      }
    },
    {
      "cell_type": "code",
      "source": [
        "x_s=torch.tensor(x_s).type(torch.FloatTensor)\n",
        "y_s=torch.tensor(y_train)"
      ],
      "metadata": {
        "id": "nrsLGu8E7U7_"
      },
      "execution_count": 32,
      "outputs": []
    },
    {
      "cell_type": "code",
      "source": [
        "y_s.shape"
      ],
      "metadata": {
        "colab": {
          "base_uri": "https://localhost:8080/"
        },
        "id": "yzYs49zm7gOo",
        "outputId": "8b664928-b491-4d74-aaed-7ba2ba1bf72a"
      },
      "execution_count": 33,
      "outputs": [
        {
          "output_type": "execute_result",
          "data": {
            "text/plain": [
              "torch.Size([60000])"
            ]
          },
          "metadata": {},
          "execution_count": 33
        }
      ]
    },
    {
      "cell_type": "markdown",
      "source": [
        "**Softmax Regression**"
      ],
      "metadata": {
        "id": "LIPcM3mT7s8p"
      }
    },
    {
      "cell_type": "code",
      "source": [
        "class SoftmaxRegression(torch.nn.Module):\n",
        "     def __init__(self, input_dim, output_dim):\n",
        "         super(SoftmaxRegression, self).__init__()\n",
        "         self.linear = torch.nn.Linear(input_dim, output_dim)\n",
        "         self.Softmax = torch.nn.Softmax(dim=1)\n",
        "        \n",
        "         self.dp = torch.nn.Dropout(p = 0.2)\n",
        "         self.batch = torch.nn.BatchNorm1d(10)\n",
        "     \n",
        "     def forward(self, x):\n",
        "         #x = self.dp(x)\n",
        "         x = self.linear(x)\n",
        "         #x = self.batch(x)\n",
        "         outputs = self.Softmax(x)\n",
        "         \n",
        "         return outputs"
      ],
      "metadata": {
        "id": "cc1WNss17gV4"
      },
      "execution_count": 247,
      "outputs": []
    },
    {
      "cell_type": "markdown",
      "source": [
        "**MLP**"
      ],
      "metadata": {
        "id": "MGfgRCVBQDFr"
      }
    },
    {
      "cell_type": "code",
      "source": [
        "class MLP(torch.nn.Module):\n",
        "     def __init__(self, input_dim, output_dim):\n",
        "         super(MLP, self).__init__()\n",
        "         self.linear1 = torch.nn.Linear(input_dim, 256)\n",
        "         self.linear2 = torch.nn.Linear(256, 256)\n",
        "         self.linear3 = torch.nn.Linear(256, output_dim)\n",
        "         \n",
        "         self.ReLU = torch.nn.ReLU()\n",
        "         self.Softmax = torch.nn.Softmax(dim=1)\n",
        "         \n",
        "         self.dp = torch.nn.Dropout(p = 0.2)\n",
        "         self.batch = torch.nn.BatchNorm1d(256)\n",
        "\n",
        "     def forward(self, x):\n",
        "       \n",
        "         x = self.linear1(x)\n",
        "         #x = self.batch(x)\n",
        "         x = self.ReLU(x)\n",
        "         x = self.dp(x)\n",
        "\n",
        "         x = self.linear2(x)\n",
        "         #x = self.batch(x)\n",
        "         x = self.ReLU(x)\n",
        "         x = self.dp(x)\n",
        "\n",
        "         x = self.linear3(x)\n",
        "         #x = self.dp(x)\n",
        "         outputs = self.Softmax(x)\n",
        "         \n",
        "         return outputs"
      ],
      "metadata": {
        "id": "6OC8lVYrQFEX"
      },
      "execution_count": 34,
      "outputs": []
    },
    {
      "cell_type": "markdown",
      "source": [
        "parameteres"
      ],
      "metadata": {
        "id": "b2bGpOce7zv8"
      }
    },
    {
      "cell_type": "code",
      "source": [
        "n_epochs = 300\n",
        "input_dim = 784 \n",
        "output_dim = 10  \n",
        "learning_rate = 0.01\n",
        "loss_model = torch.nn.CrossEntropyLoss()\n",
        "\n",
        "model_MLP = MLP(input_dim,output_dim)\n",
        "optimizer = torch.optim.SGD(model_MLP.parameters(), lr=learning_rate)\n",
        "\n",
        "#model_SR = SoftmaxRegression(input_dim,output_dim)\n",
        "#optimizer = torch.optim.SGD(model_SR.parameters(), lr=learning_rate)\n",
        "\n"
      ],
      "metadata": {
        "id": "CO4y8brr7gcq"
      },
      "execution_count": 35,
      "outputs": []
    },
    {
      "cell_type": "code",
      "source": [
        "torch.cuda.is_available()"
      ],
      "metadata": {
        "colab": {
          "base_uri": "https://localhost:8080/"
        },
        "id": "cnJp1jxe75IZ",
        "outputId": "e657f37c-0fe7-436b-aff1-37ddfc664e0b"
      },
      "execution_count": 36,
      "outputs": [
        {
          "output_type": "execute_result",
          "data": {
            "text/plain": [
              "False"
            ]
          },
          "metadata": {},
          "execution_count": 36
        }
      ]
    },
    {
      "cell_type": "code",
      "source": [
        "train_losses = []\n",
        "train_counter = []"
      ],
      "metadata": {
        "id": "tt6a51dp75RK"
      },
      "execution_count": 37,
      "outputs": []
    },
    {
      "cell_type": "code",
      "source": [
        "train_predict=[]\n",
        "for epoch in range(1, n_epochs+1):\n",
        "\n",
        "    ############# choose the model: SR--> softmax regression , MLP--> MLP\n",
        "    #model_SR.train()\n",
        "    model_MLP.train()\n",
        "    \n",
        "    optimizer.zero_grad()\n",
        "\n",
        "    ############# choose the model: SR--> softmax regression , MLP--> MLP\n",
        "    #output = model_SR(x_s)\n",
        "    output = model_MLP(x_s)\n",
        "\n",
        "    loss = loss_model(output, y_s)\n",
        "\n",
        "    loss.backward()\n",
        "    optimizer.step()\n",
        "    #print(epoch)\n",
        "    train_predict.append(output)\n",
        "\n",
        "    train_losses.append(loss)\n",
        "    train_counter.append(epoch)\n"
      ],
      "metadata": {
        "id": "Jynf12vj7-Rr"
      },
      "execution_count": 38,
      "outputs": []
    },
    {
      "cell_type": "code",
      "source": [
        "def classlabel(l):\n",
        "    return l.argmax(axis=1)"
      ],
      "metadata": {
        "id": "OVP4zNbiNX3n"
      },
      "execution_count": 39,
      "outputs": []
    },
    {
      "cell_type": "code",
      "source": [
        "len(train_predict)"
      ],
      "metadata": {
        "colab": {
          "base_uri": "https://localhost:8080/"
        },
        "id": "GF1OtvGNWcw-",
        "outputId": "88244659-2e9e-4ed1-981e-36eba7f278ce"
      },
      "execution_count": 40,
      "outputs": [
        {
          "output_type": "execute_result",
          "data": {
            "text/plain": [
              "300"
            ]
          },
          "metadata": {},
          "execution_count": 40
        }
      ]
    },
    {
      "cell_type": "markdown",
      "source": [
        "Accuracy of Train"
      ],
      "metadata": {
        "id": "TaBD8oOCNJU-"
      }
    },
    {
      "cell_type": "code",
      "source": [
        "accuracy=[]\n",
        "for j in range(len(train_predict)):\n",
        "    count = 0\n",
        "    predict = classlabel(train_predict[j])\n",
        "\n",
        "    for k in range(len(predict)):\n",
        "        if predict[k] == y_s[k]:\n",
        "             count+= 1\n",
        "    \n",
        "    accuracy.append(count/len(predict))\n",
        "print(\"Train Accuracy: \",count/len(predict))"
      ],
      "metadata": {
        "colab": {
          "base_uri": "https://localhost:8080/"
        },
        "id": "A2gvsDoAM3lA",
        "outputId": "abe982a7-3f0c-4920-c68d-b54fbf4cf988"
      },
      "execution_count": 41,
      "outputs": [
        {
          "output_type": "stream",
          "name": "stdout",
          "text": [
            "Train Accuracy:  0.8168333333333333\n"
          ]
        }
      ]
    },
    {
      "cell_type": "markdown",
      "source": [
        "Plot-Accuracy"
      ],
      "metadata": {
        "id": "Tg9nK1qmaVy4"
      }
    },
    {
      "cell_type": "code",
      "source": [
        "import matplotlib.pyplot as plt\n",
        "plt.plot(train_counter, accuracy, color='red')\n",
        "plt.xlabel('Epoch')\n",
        "plt.ylabel('Accuracy')\n",
        "plt.title('MLP - dropout')"
      ],
      "metadata": {
        "colab": {
          "base_uri": "https://localhost:8080/",
          "height": 313
        },
        "id": "PCfCzRY4WDzG",
        "outputId": "097c8683-e81c-40c0-ee0a-1ee42e54f10d"
      },
      "execution_count": 42,
      "outputs": [
        {
          "output_type": "execute_result",
          "data": {
            "text/plain": [
              "Text(0.5, 1.0, 'MLP - dropout')"
            ]
          },
          "metadata": {},
          "execution_count": 42
        },
        {
          "output_type": "display_data",
          "data": {
            "text/plain": [
              "<Figure size 432x288 with 1 Axes>"
            ],
            "image/png": "[encoded data removed]"
          },
          "metadata": {
            "needs_background": "light"
          }
        }
      ]
    },
    {
      "cell_type": "markdown",
      "source": [
        "Plot-Loss"
      ],
      "metadata": {
        "id": "qMMMJl-t8TIa"
      }
    },
    {
      "cell_type": "code",
      "source": [
        "import matplotlib.pyplot as plt\n",
        "loss_list = []\n",
        "\n",
        "for i in range (len(train_losses)):\n",
        "  loss_list.append(float(train_losses[i]))\n",
        "\n",
        "plt.plot(train_counter, loss_list, color='blue')\n",
        "\n",
        "plt.xlabel('Epoch')\n",
        "plt.ylabel('Loss')\n",
        "plt.title('MLP - dropout')"
      ],
      "metadata": {
        "colab": {
          "base_uri": "https://localhost:8080/",
          "height": 313
        },
        "id": "AyCvUyz58NQR",
        "outputId": "2b866d6c-1898-4ff7-ced3-724380a1ff4a"
      },
      "execution_count": 43,
      "outputs": [
        {
          "output_type": "execute_result",
          "data": {
            "text/plain": [
              "Text(0.5, 1.0, 'MLP - dropout')"
            ]
          },
          "metadata": {},
          "execution_count": 43
        },
        {
          "output_type": "display_data",
          "data": {
            "text/plain": [
              "<Figure size 432x288 with 1 Axes>"
            ],
            "image/png": "[encoded data removed]"
          },
          "metadata": {
            "needs_background": "light"
          }
        }
      ]
    },
    {
      "cell_type": "markdown",
      "source": [
        "Test dataset"
      ],
      "metadata": {
        "id": "NA6dzN0C9cuB"
      }
    },
    {
      "cell_type": "code",
      "source": [
        "def testing_images():\n",
        "    with gzip.open('/content/t10k-images-idx3-ubyte.gz', 'r') as f:\n",
        "        # first 4 bytes is a magic number\n",
        "        magic_number = int.from_bytes(f.read(4), 'big')\n",
        "        # second 4 bytes is the number of images\n",
        "        image_count = int.from_bytes(f.read(4), 'big')\n",
        "        # third 4 bytes is the row count\n",
        "        row_count = int.from_bytes(f.read(4), 'big')\n",
        "        # fourth 4 bytes is the column count\n",
        "        column_count = int.from_bytes(f.read(4), 'big')\n",
        "        # rest is the image pixel data, each pixel is stored as an unsigned byte\n",
        "        # pixel values are 0 to 255\n",
        "        image_data = f.read()\n",
        "        images = np.frombuffer(image_data, dtype=np.uint8)\\\n",
        "            .reshape((image_count, row_count, column_count))\n",
        "        return images\n",
        "\n",
        "\n",
        "def testing_labels():\n",
        "    with gzip.open('/content/t10k-labels-idx1-ubyte.gz', 'r') as f:\n",
        "        # first 4 bytes is a magic number\n",
        "        magic_number = int.from_bytes(f.read(4), 'big')\n",
        "        # second 4 bytes is the number of labels\n",
        "        label_count = int.from_bytes(f.read(4), 'big')\n",
        "        # rest is the label data, each label is stored as unsigned byte\n",
        "        # label values are 0 to 9\n",
        "        label_data = f.read()\n",
        "        labels = np.frombuffer(label_data, dtype=np.uint8)\n",
        "        return labels"
      ],
      "metadata": {
        "id": "Jzl3XdKR9oF5"
      },
      "execution_count": 44,
      "outputs": []
    },
    {
      "cell_type": "code",
      "source": [
        "x_test = testing_images()\n",
        "x_test.shape"
      ],
      "metadata": {
        "colab": {
          "base_uri": "https://localhost:8080/"
        },
        "id": "3G7lTySE-V3y",
        "outputId": "475d3e1c-61e0-41cc-8530-96f032aa8ae0"
      },
      "execution_count": 45,
      "outputs": [
        {
          "output_type": "execute_result",
          "data": {
            "text/plain": [
              "(10000, 28, 28)"
            ]
          },
          "metadata": {},
          "execution_count": 45
        }
      ]
    },
    {
      "cell_type": "code",
      "source": [
        "y_test = testing_labels()\n",
        "y_test.shape"
      ],
      "metadata": {
        "colab": {
          "base_uri": "https://localhost:8080/"
        },
        "id": "hiCMtRvV-XMK",
        "outputId": "3ef666e4-28dc-499e-b2bb-fd83a682822e"
      },
      "execution_count": 46,
      "outputs": [
        {
          "output_type": "execute_result",
          "data": {
            "text/plain": [
              "(10000,)"
            ]
          },
          "metadata": {},
          "execution_count": 46
        }
      ]
    },
    {
      "cell_type": "code",
      "source": [
        "x_st = x_test.reshape(10000,784)"
      ],
      "metadata": {
        "id": "2f0OwOAq-qUh"
      },
      "execution_count": 47,
      "outputs": []
    },
    {
      "cell_type": "code",
      "source": [
        "x_st=torch.tensor(x_st).type(torch.FloatTensor)\n",
        "y_st=torch.tensor(y_test)"
      ],
      "metadata": {
        "id": "MW1PqCWm-9uC"
      },
      "execution_count": 48,
      "outputs": []
    },
    {
      "cell_type": "code",
      "source": [
        "def test():\n",
        "\n",
        "  ############# choose the model: SR--> softmax regression , MLP--> MLP\n",
        "  #model_SR.eval()\n",
        "  model_MLP.eval()\n",
        "\n",
        "  ############# choose the model: SR--> softmax regression , MLP--> MLP\n",
        "  #output = model_SR(x_st)\n",
        "  output = model_MLP(x_st)\n",
        "\n",
        "  y_predict = classlabel(output) \n",
        "  correct = 0\n",
        "  for k in range(len(y_predict)):\n",
        "    \n",
        "    if y_predict[k] == y_test[k]:\n",
        "      correct+= 1\n",
        "\n",
        "  print(\"Test Accuracy: \",correct/len(y_test))"
      ],
      "metadata": {
        "id": "qPPYVVdM9lsK"
      },
      "execution_count": 49,
      "outputs": []
    },
    {
      "cell_type": "code",
      "source": [
        "test()"
      ],
      "metadata": {
        "colab": {
          "base_uri": "https://localhost:8080/"
        },
        "id": "5cyjQg14FA4w",
        "outputId": "ab94e8af-056e-493d-b8ed-b5a1e15264d4"
      },
      "execution_count": 50,
      "outputs": [
        {
          "output_type": "stream",
          "name": "stdout",
          "text": [
            "Test Accuracy:  0.8518\n"
          ]
        }
      ]
    }
  ]
}