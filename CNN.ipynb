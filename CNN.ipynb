{
  "nbformat": 4,
  "nbformat_minor": 0,
  "metadata": {
    "colab": {
      "provenance": []
    },
    "kernelspec": {
      "name": "python3",
      "display_name": "Python 3"
    },
    "language_info": {
      "name": "python"
    }
  },
  "cells": [
    {
      "cell_type": "code",
      "execution_count": 25,
      "metadata": {
        "id": "4RHpEVyChH3M"
      },
      "outputs": [],
      "source": [
        "import torch.optim as optim\n",
        "import torch.nn as nn\n",
        "import torch\n",
        "import torch.nn.functional as F\n",
        "import numpy as np\n",
        "import gzip\n"
      ]
    },
    {
      "cell_type": "code",
      "source": [
        "torch.manual_seed(42)"
      ],
      "metadata": {
        "colab": {
          "base_uri": "https://localhost:8080/"
        },
        "id": "NRypfN6_rMMu",
        "outputId": "b9710528-a841-433d-a821-626ebf7b0eaf"
      },
      "execution_count": 26,
      "outputs": [
        {
          "output_type": "execute_result",
          "data": {
            "text/plain": [
              "<torch._C.Generator at 0x7faa50e7a250>"
            ]
          },
          "metadata": {},
          "execution_count": 26
        }
      ]
    },
    {
      "cell_type": "code",
      "source": [
        "def training_images():\n",
        "    with gzip.open('/content/train-images-idx3-ubyte.gz', 'r') as f:\n",
        "        # first 4 bytes is a magic number\n",
        "        magic_number = int.from_bytes(f.read(4), 'big')\n",
        "        # second 4 bytes is the number of images\n",
        "        image_count = int.from_bytes(f.read(4), 'big')\n",
        "        # third 4 bytes is the row count\n",
        "        row_count = int.from_bytes(f.read(4), 'big')\n",
        "        # fourth 4 bytes is the column count\n",
        "        column_count = int.from_bytes(f.read(4), 'big')\n",
        "        # rest is the image pixel data, each pixel is stored as an unsigned byte\n",
        "        # pixel values are 0 to 255\n",
        "        image_data = f.read()\n",
        "        images = np.frombuffer(image_data, dtype=np.uint8)\\\n",
        "            .reshape((image_count, row_count, column_count))\n",
        "        return images\n",
        "\n",
        "\n",
        "def training_labels():\n",
        "    with gzip.open('/content/train-labels-idx1-ubyte.gz', 'r') as f:\n",
        "        # first 4 bytes is a magic number\n",
        "        magic_number = int.from_bytes(f.read(4), 'big')\n",
        "        # second 4 bytes is the number of labels\n",
        "        label_count = int.from_bytes(f.read(4), 'big')\n",
        "        # rest is the label data, each label is stored as unsigned byte\n",
        "        # label values are 0 to 9\n",
        "        label_data = f.read()\n",
        "        labels = np.frombuffer(label_data, dtype=np.uint8)\n",
        "        return labels"
      ],
      "metadata": {
        "id": "E-CwtK0FrMWb"
      },
      "execution_count": 27,
      "outputs": []
    },
    {
      "cell_type": "code",
      "source": [
        "x_train = training_images()\n",
        "x_train.shape"
      ],
      "metadata": {
        "colab": {
          "base_uri": "https://localhost:8080/"
        },
        "id": "jx_1ChZrrMbC",
        "outputId": "0097c3c1-0b17-45c1-a52c-7a57f9e20b69"
      },
      "execution_count": 28,
      "outputs": [
        {
          "output_type": "execute_result",
          "data": {
            "text/plain": [
              "(60000, 28, 28)"
            ]
          },
          "metadata": {},
          "execution_count": 28
        }
      ]
    },
    {
      "cell_type": "code",
      "source": [
        "x_train = x_train.reshape(60000,1, 28, 28)\n",
        "x_train.shape"
      ],
      "metadata": {
        "colab": {
          "base_uri": "https://localhost:8080/"
        },
        "id": "FYR7EWtzs3Rw",
        "outputId": "78b8260b-8528-4dcd-ac56-3f0c88fbf5ff"
      },
      "execution_count": 29,
      "outputs": [
        {
          "output_type": "execute_result",
          "data": {
            "text/plain": [
              "(60000, 1, 28, 28)"
            ]
          },
          "metadata": {},
          "execution_count": 29
        }
      ]
    },
    {
      "cell_type": "code",
      "source": [
        "y_train = training_labels()\n",
        "y_train.shape"
      ],
      "metadata": {
        "colab": {
          "base_uri": "https://localhost:8080/"
        },
        "id": "2-xfRcwFrMjM",
        "outputId": "37c90d96-13b2-4309-dc46-7821110ed215"
      },
      "execution_count": 30,
      "outputs": [
        {
          "output_type": "execute_result",
          "data": {
            "text/plain": [
              "(60000,)"
            ]
          },
          "metadata": {},
          "execution_count": 30
        }
      ]
    },
    {
      "cell_type": "code",
      "source": [
        "x_s=torch.tensor(x_train).type(torch.FloatTensor)\n",
        "y_s=torch.tensor(y_train)"
      ],
      "metadata": {
        "id": "kfHoTcXvraFN"
      },
      "execution_count": 31,
      "outputs": []
    },
    {
      "cell_type": "markdown",
      "source": [
        "**CNN**"
      ],
      "metadata": {
        "id": "652j6k1yrfzs"
      }
    },
    {
      "cell_type": "code",
      "source": [
        "class CNN(nn.Module):\n",
        "\n",
        "    def __init__(self):\n",
        "        super(CNN, self).__init__()\n",
        "        self.conv1 = nn.Conv2d(1, 10, kernel_size=5)\n",
        "        self.conv1_bn=nn.BatchNorm2d(10)\n",
        "        self.conv2 = nn.Conv2d(10, 20, kernel_size=5)\n",
        "        self.conv2_bn=nn.BatchNorm2d(20)\n",
        "\n",
        "        \n",
        "        self.fc1 = nn.Linear(320, 50)\n",
        "        self.fc2 = nn.Linear(50, 10)\n",
        "\n",
        "        self.conv2_drop = nn.Dropout2d()\n",
        "        self.Softmax = torch.nn.Softmax(dim=1)\n",
        "\n",
        "        self.conv1_bn=nn.BatchNorm2d(10)\n",
        "        self.conv2_bn=nn.BatchNorm2d(20)\n",
        "        #self.conv3_bn=nn.BatchNorm2d(64)\n",
        "        \n",
        "        \n",
        "        #self.fc1_bn=nn.BatchNorm1d(50)\n",
        "        #self.dp = torch.nn.Dropout(p = 0.2)\n",
        "        \n",
        "\n",
        "    def forward(self, x):\n",
        "\n",
        "        #x = F.max_pool2d(self.conv1(x), 2)\n",
        "        #x = F.relu(x)\n",
        "\n",
        "        #x = self.conv2_drop(self.conv2(x))\n",
        "        #x = F.relu(x)\n",
        "        #x = F.relu(F.max_pool2d(self.conv1(x), 2))\n",
        "        #x = F.relu(F.max_pool2d(self.conv2(x), 2))\n",
        "        #x = F.relu(F.max_pool2d(self.conv2_drop(self.conv2(x)), 2))\n",
        "\n",
        "        x=F.max_pool2d(self.conv1(x), 2)\n",
        "        x=self.conv1_bn(x)\n",
        "        x=F.relu(x)\n",
        "\n",
        "        x=F.max_pool2d(self.conv2_drop(self.conv2(x)), 2)\n",
        "        x=self.conv2_bn(x)\n",
        "        x=F.relu(x)\n",
        "        \n",
        "        x = x.view(-1, 320)\n",
        "        x = F.relu(self.fc1(x))\n",
        "        #x = self.dp(x)\n",
        "\n",
        "        #x=self.fc1(x)\n",
        "        #x= F.relu(self.fc1_bn(x))\n",
        "\n",
        "        x = self.fc2(x)\n",
        "        x = self.Softmax(x)\n",
        "\n",
        "       \n",
        "        return x"
      ],
      "metadata": {
        "id": "YxAesUEVraOc"
      },
      "execution_count": 32,
      "outputs": []
    },
    {
      "cell_type": "code",
      "source": [
        "n_epochs = 30  \n",
        "learning_rate = 0.01\n",
        "loss_model = torch.nn.CrossEntropyLoss()\n",
        "\n",
        "model_CNN = CNN()\n",
        "optimizer = torch.optim.SGD(model_CNN .parameters(), lr=learning_rate)"
      ],
      "metadata": {
        "id": "u6Y9_ee7raU0"
      },
      "execution_count": 33,
      "outputs": []
    },
    {
      "cell_type": "code",
      "source": [
        "torch.cuda.is_available()"
      ],
      "metadata": {
        "colab": {
          "base_uri": "https://localhost:8080/"
        },
        "id": "sikubij7uMXn",
        "outputId": "9aa904fc-5c26-4545-abb0-1b70cf1bf644"
      },
      "execution_count": 34,
      "outputs": [
        {
          "output_type": "execute_result",
          "data": {
            "text/plain": [
              "False"
            ]
          },
          "metadata": {},
          "execution_count": 34
        }
      ]
    },
    {
      "cell_type": "code",
      "source": [
        "train_losses = []\n",
        "train_counter = []"
      ],
      "metadata": {
        "id": "z1JmqFwWuMhV"
      },
      "execution_count": 35,
      "outputs": []
    },
    {
      "cell_type": "code",
      "source": [
        "train_predict=[]\n",
        "for epoch in range(1, n_epochs+1):\n",
        "\n",
        "    #model_SR.train()\n",
        "    model_CNN.train()\n",
        "    \n",
        "    optimizer.zero_grad()\n",
        "\n",
        "    #output = model_SR(x_s)\n",
        "    output = model_CNN(x_s)\n",
        "\n",
        "    loss = loss_model(output, y_s)\n",
        "    predictions = torch.max(output, 1) ##converting the output probabilities to predicted class\n",
        "\n",
        "    loss.backward()\n",
        "    optimizer.step()\n",
        "    print(\"epoch: \", epoch)\n",
        "    train_predict.append(output)\n",
        "\n",
        "    train_losses.append(loss)\n",
        "    train_counter.append(epoch)\n",
        "\n",
        "    #print(\"epoch:\",epoch,\" loss:\",loss)\n"
      ],
      "metadata": {
        "colab": {
          "base_uri": "https://localhost:8080/"
        },
        "id": "Yk4YK4YKuMqf",
        "outputId": "490f03ab-f3bb-4766-aa2b-45c86772d943"
      },
      "execution_count": 36,
      "outputs": [
        {
          "output_type": "stream",
          "name": "stdout",
          "text": [
            "epoch:  1\n",
            "epoch:  2\n",
            "epoch:  3\n",
            "epoch:  4\n",
            "epoch:  5\n",
            "epoch:  6\n",
            "epoch:  7\n",
            "epoch:  8\n",
            "epoch:  9\n",
            "epoch:  10\n",
            "epoch:  11\n",
            "epoch:  12\n",
            "epoch:  13\n",
            "epoch:  14\n",
            "epoch:  15\n",
            "epoch:  16\n",
            "epoch:  17\n",
            "epoch:  18\n",
            "epoch:  19\n",
            "epoch:  20\n",
            "epoch:  21\n",
            "epoch:  22\n",
            "epoch:  23\n",
            "epoch:  24\n",
            "epoch:  25\n",
            "epoch:  26\n",
            "epoch:  27\n",
            "epoch:  28\n",
            "epoch:  29\n",
            "epoch:  30\n"
          ]
        }
      ]
    },
    {
      "cell_type": "code",
      "source": [
        "def classlabel(z):\n",
        "    return z.argmax(axis=1)"
      ],
      "metadata": {
        "id": "r8dPK_mp_t6U"
      },
      "execution_count": 37,
      "outputs": []
    },
    {
      "cell_type": "code",
      "source": [
        "accuracy=[]\n",
        "for j in range(len(train_predict)):\n",
        "    count = 0\n",
        "    predict = classlabel(train_predict[j])\n",
        "\n",
        "    for k in range(len(predict)):\n",
        "        if predict[k] == y_s[k]:\n",
        "             count+= 1\n",
        "    \n",
        "    accuracy.append(count/len(predict))\n",
        "print(\"Train Accuracy: \",count/len(predict))"
      ],
      "metadata": {
        "colab": {
          "base_uri": "https://localhost:8080/"
        },
        "id": "Jcj3U7ok_wwg",
        "outputId": "b16a39dc-1261-41f8-8912-772c49b50a8b"
      },
      "execution_count": 38,
      "outputs": [
        {
          "output_type": "stream",
          "name": "stdout",
          "text": [
            "Train Accuracy:  0.09216666666666666\n"
          ]
        }
      ]
    },
    {
      "cell_type": "markdown",
      "source": [
        "Plot-Accuracy"
      ],
      "metadata": {
        "id": "Z8OzM-5YAHi6"
      }
    },
    {
      "cell_type": "code",
      "source": [
        "import matplotlib.pyplot as plt\n",
        "plt.plot(train_counter, accuracy, color='red')\n",
        "plt.xlabel('Epoch')\n",
        "plt.ylabel('Accuracy')\n",
        "plt.title('CNN -  batch normalization')"
      ],
      "metadata": {
        "colab": {
          "base_uri": "https://localhost:8080/",
          "height": 313
        },
        "id": "dLTw2d1PAADL",
        "outputId": "568bfb6f-3c69-4c0e-b34b-1b6782dec3d5"
      },
      "execution_count": 48,
      "outputs": [
        {
          "output_type": "execute_result",
          "data": {
            "text/plain": [
              "Text(0.5, 1.0, 'CNN -  batch normalization')"
            ]
          },
          "metadata": {},
          "execution_count": 48
        },
        {
          "output_type": "display_data",
          "data": {
            "text/plain": [
              "<Figure size 432x288 with 1 Axes>"
            ],
            "image/png": "[encoded data removed]"
          },
          "metadata": {
            "needs_background": "light"
          }
        }
      ]
    },
    {
      "cell_type": "markdown",
      "source": [
        "Plot-Loss"
      ],
      "metadata": {
        "id": "iAe56FIVANQZ"
      }
    },
    {
      "cell_type": "code",
      "source": [
        "import matplotlib.pyplot as plt\n",
        "loss_list = []\n",
        "\n",
        "for i in range (len(train_losses)):\n",
        "  loss_list.append(float(train_losses[i]))\n",
        "\n",
        "plt.plot(train_counter, loss_list, color='blue')\n",
        "\n",
        "plt.xlabel('Epoch')\n",
        "plt.ylabel('Loss')\n",
        "plt.title('CNN - batch normalization')"
      ],
      "metadata": {
        "colab": {
          "base_uri": "https://localhost:8080/",
          "height": 313
        },
        "id": "6dcpAOrSANZB",
        "outputId": "596879fa-f960-4288-942f-4d477bb70ff3"
      },
      "execution_count": 49,
      "outputs": [
        {
          "output_type": "execute_result",
          "data": {
            "text/plain": [
              "Text(0.5, 1.0, 'CNN - batch normalization')"
            ]
          },
          "metadata": {},
          "execution_count": 49
        },
        {
          "output_type": "display_data",
          "data": {
            "text/plain": [
              "<Figure size 432x288 with 1 Axes>"
            ],
            "image/png": "[encoded data removed]"
          },
          "metadata": {
            "needs_background": "light"
          }
        }
      ]
    },
    {
      "cell_type": "code",
      "source": [
        "def testing_images():\n",
        "    with gzip.open('/content/t10k-images-idx3-ubyte.gz', 'r') as f:\n",
        "        # first 4 bytes is a magic number\n",
        "        magic_number = int.from_bytes(f.read(4), 'big')\n",
        "        # second 4 bytes is the number of images\n",
        "        image_count = int.from_bytes(f.read(4), 'big')\n",
        "        # third 4 bytes is the row count\n",
        "        row_count = int.from_bytes(f.read(4), 'big')\n",
        "        # fourth 4 bytes is the column count\n",
        "        column_count = int.from_bytes(f.read(4), 'big')\n",
        "        # rest is the image pixel data, each pixel is stored as an unsigned byte\n",
        "        # pixel values are 0 to 255\n",
        "        image_data = f.read()\n",
        "        images = np.frombuffer(image_data, dtype=np.uint8)\\\n",
        "            .reshape((image_count, row_count, column_count))\n",
        "        return images\n",
        "\n",
        "\n",
        "def testing_labels():\n",
        "    with gzip.open('/content/t10k-labels-idx1-ubyte.gz', 'r') as f:\n",
        "        # first 4 bytes is a magic number\n",
        "        magic_number = int.from_bytes(f.read(4), 'big')\n",
        "        # second 4 bytes is the number of labels\n",
        "        label_count = int.from_bytes(f.read(4), 'big')\n",
        "        # rest is the label data, each label is stored as unsigned byte\n",
        "        # label values are 0 to 9\n",
        "        label_data = f.read()\n",
        "        labels = np.frombuffer(label_data, dtype=np.uint8)\n",
        "        return labels"
      ],
      "metadata": {
        "id": "rd6maWyoAZpg"
      },
      "execution_count": 41,
      "outputs": []
    },
    {
      "cell_type": "code",
      "source": [
        "x_test = testing_images()\n",
        "x_test.shape"
      ],
      "metadata": {
        "colab": {
          "base_uri": "https://localhost:8080/"
        },
        "id": "pxyvEtyXAZy2",
        "outputId": "3eeae0b4-9473-4e1f-e349-1722ab785994"
      },
      "execution_count": 42,
      "outputs": [
        {
          "output_type": "execute_result",
          "data": {
            "text/plain": [
              "(10000, 28, 28)"
            ]
          },
          "metadata": {},
          "execution_count": 42
        }
      ]
    },
    {
      "cell_type": "code",
      "source": [
        "y_test = testing_labels()\n",
        "y_test.shape"
      ],
      "metadata": {
        "colab": {
          "base_uri": "https://localhost:8080/"
        },
        "id": "50r-6p5pAZ6Q",
        "outputId": "8363e9c2-7e4f-4c8c-d8c6-451918017438"
      },
      "execution_count": 43,
      "outputs": [
        {
          "output_type": "execute_result",
          "data": {
            "text/plain": [
              "(10000,)"
            ]
          },
          "metadata": {},
          "execution_count": 43
        }
      ]
    },
    {
      "cell_type": "code",
      "source": [
        "x_st = x_test.reshape(10000,1,28,28)"
      ],
      "metadata": {
        "id": "3c3MtV5NAioh"
      },
      "execution_count": 44,
      "outputs": []
    },
    {
      "cell_type": "code",
      "source": [
        "x_st=torch.tensor(x_st).type(torch.FloatTensor)\n",
        "y_st=torch.tensor(y_test)"
      ],
      "metadata": {
        "id": "E5eUL2vsAisg"
      },
      "execution_count": 45,
      "outputs": []
    },
    {
      "cell_type": "code",
      "source": [
        "def test():\n",
        "\n",
        "  #model_SR.eval()\n",
        "  model_CNN.eval()\n",
        "\n",
        "  #test_loss = 0\n",
        "  correct = 0\n",
        "\n",
        "\n",
        "  output = model_CNN(x_st)\n",
        "  #output = model_MLP(x_st)\n",
        "  y_predict = classlabel(output) \n",
        "\n",
        "  for k in range(len(y_predict)):\n",
        "    \n",
        "    if y_predict[k] == y_test[k]:\n",
        "      correct+= 1\n",
        "  #test_loss = loss_fn(output, y_test)\n",
        "  #test_losses.append(test_loss)\n",
        "\n",
        "  #print(\" test_loss:\",test_loss)\n",
        "  print(\"Test Accuracy: \",correct/len(y_test))"
      ],
      "metadata": {
        "id": "xaSxPY9UAix6"
      },
      "execution_count": 46,
      "outputs": []
    },
    {
      "cell_type": "code",
      "source": [
        "test()"
      ],
      "metadata": {
        "colab": {
          "base_uri": "https://localhost:8080/"
        },
        "id": "GYZLyGE_Ai2D",
        "outputId": "649a89ed-0c53-4dc2-f64c-1e30f85dc3b0"
      },
      "execution_count": 47,
      "outputs": [
        {
          "output_type": "stream",
          "name": "stdout",
          "text": [
            "Test Accuracy:  0.1141\n"
          ]
        }
      ]
    }
  ]
}